{
 "cells": [
  {
   "cell_type": "code",
   "execution_count": 61,
   "id": "ef7f7756-2500-4a75-a20c-b8b91b003f2f",
   "metadata": {},
   "outputs": [],
   "source": [
    "from typing import List, Dict, Tuple\n",
    "from itertools import combinations\n",
    "\n",
    "def find_weight_plates(sleeve_weight: float, available_plates: Dict[float, int]) -> List[List[float]]:\n",
    "    \"\"\"\n",
    "    Find multiple valid combinations of plates that add up to the given sleeve weight.\n",
    "    Returns a list of plate combinations, sorted from greediest (largest plates first) to less greedy.\n",
    "    \"\"\"\n",
    "    sorted_plates = sorted(available_plates.keys(), reverse=True)\n",
    "    valid_combinations = []\n",
    "\n",
    "    def backtrack(target: float, current_combo: List[float], start_index: int):\n",
    "        if abs(target) < 1e-6:  # Found a valid combination\n",
    "            valid_combinations.append(current_combo.copy())\n",
    "            return\n",
    "        if target < 0 or start_index >= len(sorted_plates):\n",
    "            return\n",
    "\n",
    "        for i in range(start_index, len(sorted_plates)):\n",
    "            plate = sorted_plates[i]\n",
    "            if plate <= target and current_combo.count(plate) < available_plates[plate]:\n",
    "                current_combo.append(plate)\n",
    "                backtrack(target - plate, current_combo, i)\n",
    "                current_combo.pop()\n",
    "\n",
    "    backtrack(sleeve_weight, [], 0)\n",
    "\n",
    "    # Sort combinations by the number of plates used (fewer plates first)\n",
    "    return sorted(valid_combinations, key=len)\n",
    "\n",
    "def find_optimal_loadings(bar_weight: float, available_plates: Dict[float, int], target_weights: List[float]) -> Dict[float, List[float]]:\n",
    "    \"\"\"\n",
    "    Given the `bar_weight`, the `available_plates`, and the `target_weights` to be lifted, \n",
    "    find the sequence of weights to be added to one sleeve of a barbell that produces the \n",
    "    `target_weights` while minimizing the amount of weight added and removed between sets.\n",
    "    \"\"\"\n",
    "    \n",
    "    # Assume / check that the weights to be lifting are non-increasing\n",
    "    assert all(w1 >= w2 for w1, w2 in zip(target_weights, target_weights[1:])), \"target_weights must be non-increasing\"\n",
    "\n",
    "    # What weights do we need on each barbell sleeve?\n",
    "    sleeve_weights = [(target - bar_weight) / 2 for target in target_weights]\n",
    "    "
   ]
  },
  {
   "cell_type": "code",
   "execution_count": 62,
   "id": "0831cf84-4c6c-47e0-b4f3-7bebc6802517",
   "metadata": {},
   "outputs": [
    {
     "data": {
      "text/plain": [
       "[[45, 5],\n",
       " [35, 15],\n",
       " [25, 25],\n",
       " [35, 10, 5],\n",
       " [25, 15, 10],\n",
       " [45, 2.75, 1.25, 1],\n",
       " [25, 10, 10, 5],\n",
       " [15, 15, 10, 10],\n",
       " [45, 2.75, 1.25, 0.75, 0.25],\n",
       " [45, 2.75, 1, 0.75, 0.5],\n",
       " [35, 10, 2.75, 1.25, 1],\n",
       " [35, 10, 2.75, 1.25, 0.75, 0.25],\n",
       " [35, 10, 2.75, 1, 0.75, 0.5],\n",
       " [25, 15, 5, 2.75, 1.25, 1],\n",
       " [25, 10, 10, 2.75, 1.25, 1],\n",
       " [45, 1.25, 1.25, 1, 0.75, 0.5, 0.25],\n",
       " [25, 15, 5, 2.75, 1.25, 0.75, 0.25],\n",
       " [25, 15, 5, 2.75, 1, 0.75, 0.5],\n",
       " [25, 10, 10, 2.75, 1.25, 0.75, 0.25],\n",
       " [25, 10, 10, 2.75, 1, 0.75, 0.5],\n",
       " [15, 15, 10, 5, 2.75, 1.25, 1],\n",
       " [35, 10, 1.25, 1.25, 1, 0.75, 0.5, 0.25],\n",
       " [15, 15, 10, 5, 2.75, 1.25, 0.75, 0.25],\n",
       " [15, 15, 10, 5, 2.75, 1, 0.75, 0.5],\n",
       " [35, 5, 2.75, 2.75, 1.25, 1.25, 1, 0.75, 0.25],\n",
       " [25, 15, 5, 1.25, 1.25, 1, 0.75, 0.5, 0.25],\n",
       " [25, 15, 2.75, 2.75, 1.25, 1.25, 1, 0.75, 0.25],\n",
       " [25, 10, 10, 1.25, 1.25, 1, 0.75, 0.5, 0.25],\n",
       " [25, 10, 5, 2.75, 2.75, 1.25, 1.25, 1, 0.75, 0.25],\n",
       " [15, 15, 10, 5, 1.25, 1.25, 1, 0.75, 0.5, 0.25],\n",
       " [15, 15, 10, 2.75, 2.75, 1.25, 1.25, 1, 0.75, 0.25],\n",
       " [15, 10, 10, 5, 2.75, 2.75, 1.25, 1.25, 1, 0.75, 0.25]]"
      ]
     },
     "execution_count": 62,
     "metadata": {},
     "output_type": "execute_result"
    }
   ],
   "source": [
    "# Example usage\n",
    "bar_weight = 45\n",
    "available_plates = {45: 4, 35: 2, 25: 4, 15: 4, 10: 4, 5: 2, 2.75: 4, 1.25: 4, 1: 2, 0.75: 2, 0.5: 2, 0.25: 2}\n",
    "available_plates_one_sleeve = {weight : count // 2 for (weight, count) in available_plates.items()}\n",
    "target_weights = [152, 142, 132, 122]\n",
    "\n",
    "find_weight_plates(50, available_plates_one_sleeve)"
   ]
  },
  {
   "cell_type": "code",
   "execution_count": null,
   "id": "9ffbe98d-bec4-429f-a363-3ff56ca45f66",
   "metadata": {},
   "outputs": [],
   "source": []
  }
 ],
 "metadata": {
  "kernelspec": {
   "display_name": "Python 3 (ipykernel)",
   "language": "python",
   "name": "python3"
  },
  "language_info": {
   "codemirror_mode": {
    "name": "ipython",
    "version": 3
   },
   "file_extension": ".py",
   "mimetype": "text/x-python",
   "name": "python",
   "nbconvert_exporter": "python",
   "pygments_lexer": "ipython3",
   "version": "3.12.4"
  }
 },
 "nbformat": 4,
 "nbformat_minor": 5
}
